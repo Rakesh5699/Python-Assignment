{
 "cells": [
  {
   "cell_type": "markdown",
   "id": "1a780857",
   "metadata": {},
   "source": [
    "Write a function so that the columns of the output matrix are powers of the input\n",
    "vector.\n",
    "    \n",
    "The order of the powers is determined by the increasing boolean argument. Specifically, when\n",
    "increasing is False, the i-th output column is the input vector raised element-wise to the power\n",
    "of N - i - 1.\n",
    "\n",
    "<b>HINT:</b> Such a matrix with a geometric progression in each row is named for Alexandre-\n",
    "Theophile Vandermonde."
   ]
  },
  {
   "cell_type": "code",
   "execution_count": 228,
   "id": "b90625cc",
   "metadata": {},
   "outputs": [],
   "source": [
    "def my_vander(x,n=None,increasing=False):\n",
    "    if n==None and increasing==False:\n",
    "        row =col = len(x)\n",
    "        mat = []\n",
    "        for i in range(row):\n",
    "            row_mat = []\n",
    "            n = len(x)-1\n",
    "            val = x[i]\n",
    "            for j in range(col):\n",
    "                row_mat.append(val **n)\n",
    "                n = n-1\n",
    "            mat.append(row_mat)\n",
    "        return mat\n",
    "    elif increasing==True:\n",
    "        row =col = len(x)\n",
    "        mat = []\n",
    "        for i in range(row):\n",
    "            row_mat = []\n",
    "            n = 0\n",
    "            val = x[i]\n",
    "            for j in range(col):\n",
    "                row_mat.append(val ** n)\n",
    "                n = n+1\n",
    "            mat.append(row_mat)\n",
    "        return mat\n",
    "    else:\n",
    "        row = len(x)\n",
    "        col = n\n",
    "        mat = []\n",
    "        for i in range(row):\n",
    "            row_mat = []\n",
    "            val = x[i]\n",
    "            power = n\n",
    "            power = power-1\n",
    "            for j in range(col):\n",
    "                row_mat.append(val ** power)\n",
    "                power = power-1\n",
    "            mat.append(row_mat)\n",
    "        return mat"
   ]
  },
  {
   "cell_type": "code",
   "execution_count": 229,
   "id": "72c5d0cc",
   "metadata": {},
   "outputs": [
    {
     "data": {
      "text/plain": [
       "[[8, 4, 2, 1], [27, 9, 3, 1], [64, 16, 4, 1], [125, 25, 5, 1]]"
      ]
     },
     "execution_count": 229,
     "metadata": {},
     "output_type": "execute_result"
    }
   ],
   "source": [
    "my_vander([2,3,4,5])"
   ]
  },
  {
   "cell_type": "code",
   "execution_count": 230,
   "id": "f2980be0",
   "metadata": {},
   "outputs": [
    {
     "data": {
      "text/plain": [
       "[[64, 32, 16, 8, 4, 2, 1],\n",
       " [729, 243, 81, 27, 9, 3, 1],\n",
       " [4096, 1024, 256, 64, 16, 4, 1],\n",
       " [15625, 3125, 625, 125, 25, 5, 1]]"
      ]
     },
     "execution_count": 230,
     "metadata": {},
     "output_type": "execute_result"
    }
   ],
   "source": [
    "my_vander([2,3,4,5],7)"
   ]
  },
  {
   "cell_type": "code",
   "execution_count": 231,
   "id": "05365f25",
   "metadata": {},
   "outputs": [
    {
     "data": {
      "text/plain": [
       "[[1, 2, 4, 8], [1, 3, 9, 27], [1, 4, 16, 64], [1, 5, 25, 125]]"
      ]
     },
     "execution_count": 231,
     "metadata": {},
     "output_type": "execute_result"
    }
   ],
   "source": [
    "my_vander([2,3,4,5],increasing=True)"
   ]
  },
  {
   "cell_type": "markdown",
   "id": "386f7a06",
   "metadata": {},
   "source": [
    "\n",
    "\n"
   ]
  },
  {
   "cell_type": "markdown",
   "id": "65167ba4",
   "metadata": {},
   "source": [
    "\n"
   ]
  },
  {
   "cell_type": "markdown",
   "id": "3661bef2",
   "metadata": {},
   "source": [
    "\n"
   ]
  },
  {
   "cell_type": "markdown",
   "id": "06561fe4",
   "metadata": {},
   "source": [
    "### Problem Statement 2:\n",
    "Given a sequence of n values x1, x2, ..., xn and a window size k>0, the k-th moving average of\n",
    "the given sequence is defined as follows:\n",
    "\n",
    "The moving average sequence has n-k+1 elements as shown below.\n",
    "\n",
    "The moving averages with k=4 of a ten-value sequence (n=10) is shown below\n",
    "\n",
    "i 1 2 3 4 5 6 7 8 9 10<br>\n",
    "===== == == == == == == == == == ==<br>\n",
    "Input 10 20 30 40 50 60 70 80 90 100<br>\n",
    "y1 25 = (10+20+30+40)/4<br>\n",
    "y2 35 = (20+30+40+50)/4<br>\n",
    "y3 45 = (30+40+50+60)/4<br>\n",
    "y4 55 = (40+50+60+70)/4<br>\n",
    "y5 65 = (50+60+70+80)/4<br>\n",
    "y6 75 = (60+70+80+90)/4<br>\n",
    "y7 85 = (70+80+90+100)/4<br>\n",
    "Thus, the moving average sequence has n-k+1=10-4+1=7 values.\n",
    "\n",
    "<b>Question:</b> Write a function to find moving average in an array over a window:<br>\n",
    "Test it over [3, 5, 7, 2, 8, 10, 11, 65, 72, 81, 99, 100, 150] and window of 3."
   ]
  },
  {
   "cell_type": "code",
   "execution_count": 232,
   "id": "cb51c6a8",
   "metadata": {},
   "outputs": [
    {
     "name": "stdout",
     "output_type": "stream",
     "text": [
      "[  5.           4.66666667   5.66666667   6.66666667   9.66666667\n",
      "  28.66666667  49.33333333  72.66666667  84.          93.33333333\n",
      " 116.33333333]\n"
     ]
    }
   ],
   "source": [
    "import numpy as np\n",
    "def moving_average(a, n=3) :\n",
    "    ret = np.cumsum(a, dtype=float)\n",
    "    ret[n:] = ret[n:] - ret[:-n]\n",
    "    return ret[n - 1:] / n\n",
    "a = [3, 5, 7, 2, 8, 10, 11, 65, 72, 81, 99, 100, 150]\n",
    "print(moving_average(a, n=3))"
   ]
  },
  {
   "cell_type": "code",
   "execution_count": null,
   "id": "ad36b581",
   "metadata": {},
   "outputs": [],
   "source": []
  }
 ],
 "metadata": {
  "kernelspec": {
   "display_name": "Python 3 (ipykernel)",
   "language": "python",
   "name": "python3"
  },
  "language_info": {
   "codemirror_mode": {
    "name": "ipython",
    "version": 3
   },
   "file_extension": ".py",
   "mimetype": "text/x-python",
   "name": "python",
   "nbconvert_exporter": "python",
   "pygments_lexer": "ipython3",
   "version": "3.9.12"
  }
 },
 "nbformat": 4,
 "nbformat_minor": 5
}
