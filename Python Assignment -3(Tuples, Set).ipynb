{
 "cells": [
  {
   "cell_type": "markdown",
   "id": "bb127c02",
   "metadata": {},
   "source": [
    "### 1.1 Write a Python Program to implement your own myreduce() function which works exactly like Python's built-in function reduce()"
   ]
  },
  {
   "cell_type": "markdown",
   "id": "0c1c2c3c",
   "metadata": {},
   "source": [
    "#### first let me show how reduce function work:-"
   ]
  },
  {
   "cell_type": "markdown",
   "id": "b86cf148",
   "metadata": {},
   "source": [
    "##### example1:-"
   ]
  },
  {
   "cell_type": "code",
   "execution_count": 2,
   "id": "b34690d9",
   "metadata": {},
   "outputs": [
    {
     "data": {
      "text/plain": [
       "55"
      ]
     },
     "execution_count": 2,
     "metadata": {},
     "output_type": "execute_result"
    }
   ],
   "source": [
    "from functools import reduce\n",
    "l=[1,2,3,4,5,6,7,8,9,10]\n",
    "sum1 = reduce((lambda x,y:x+y),l)\n",
    "sum1"
   ]
  },
  {
   "cell_type": "markdown",
   "id": "4d8c116f",
   "metadata": {},
   "source": [
    "###### example2:-"
   ]
  },
  {
   "cell_type": "code",
   "execution_count": 3,
   "id": "785bfaec",
   "metadata": {},
   "outputs": [
    {
     "name": "stdout",
     "output_type": "stream",
     "text": [
      "10\n"
     ]
    }
   ],
   "source": [
    "print(reduce(lambda a, b: a if a > b else b, l))"
   ]
  },
  {
   "cell_type": "markdown",
   "id": "3e789271",
   "metadata": {},
   "source": [
    "#### Now let me show how MyReduce function work:-"
   ]
  },
  {
   "cell_type": "code",
   "execution_count": 4,
   "id": "bbc7eaa5",
   "metadata": {},
   "outputs": [],
   "source": [
    "def MyReduce(fun,list1):\n",
    "    it = iter(l)\n",
    "    x=next(it)\n",
    "    y=next(it)\n",
    "    c = fun(x,y)\n",
    "    for i in range(len(l)):\n",
    "        try:\n",
    "            x=next(it)\n",
    "            y=c\n",
    "            c=fun(x,y)\n",
    "        except StopIteration:\n",
    "            pass \n",
    "    return c"
   ]
  },
  {
   "cell_type": "markdown",
   "id": "3dca7e28",
   "metadata": {},
   "source": [
    "##### example1:-"
   ]
  },
  {
   "cell_type": "code",
   "execution_count": 5,
   "id": "42cc7368",
   "metadata": {},
   "outputs": [
    {
     "name": "stdout",
     "output_type": "stream",
     "text": [
      "55\n"
     ]
    }
   ],
   "source": [
    "l = [1,2,3,4,5,6,7,8,9,10]\n",
    "sum2= MyReduce((lambda x,y:x+y),l)\n",
    "print(sum2)"
   ]
  },
  {
   "cell_type": "markdown",
   "id": "f50fbc1e",
   "metadata": {},
   "source": [
    "##### example2:-"
   ]
  },
  {
   "cell_type": "code",
   "execution_count": 6,
   "id": "9c4a22c0",
   "metadata": {},
   "outputs": [
    {
     "name": "stdout",
     "output_type": "stream",
     "text": [
      "10\n"
     ]
    }
   ],
   "source": [
    "print(MyReduce(lambda a, b: a if a > b else b, l))"
   ]
  },
  {
   "cell_type": "markdown",
   "id": "1a7d5903",
   "metadata": {},
   "source": [
    "### 1.2 Write a Python program to implement your own myfilter() function which works exactly like Python's built-in function filter()"
   ]
  },
  {
   "cell_type": "markdown",
   "id": "bd613d61",
   "metadata": {},
   "source": [
    "#### first let me show how filtter function work:-"
   ]
  },
  {
   "cell_type": "markdown",
   "id": "0666a0ae",
   "metadata": {},
   "source": [
    "##### example1:-"
   ]
  },
  {
   "cell_type": "code",
   "execution_count": 7,
   "id": "e6c8bfdf",
   "metadata": {},
   "outputs": [
    {
     "name": "stdout",
     "output_type": "stream",
     "text": [
      "[1, 2, 3, 4, 5, 6, 7, 8, 9, 10]\n"
     ]
    }
   ],
   "source": [
    "l = [1,2,3,4,5,6,7,8,9,10] \n",
    "print(list(filter(lambda x:x*2,l)))"
   ]
  },
  {
   "cell_type": "markdown",
   "id": "7615bfd8",
   "metadata": {},
   "source": [
    "##### example2:-"
   ]
  },
  {
   "cell_type": "code",
   "execution_count": 8,
   "id": "4e5e463d",
   "metadata": {},
   "outputs": [
    {
     "name": "stdout",
     "output_type": "stream",
     "text": [
      "[2, 4, 6, 8, 10]\n"
     ]
    }
   ],
   "source": [
    "l = [1,2,3,4,5,6,7,8,9,10] \n",
    "print(list(filter((lambda x:x%2==0),l)))"
   ]
  },
  {
   "cell_type": "markdown",
   "id": "04825c64",
   "metadata": {},
   "source": [
    "#### Now let me show how MyFilter function work:-"
   ]
  },
  {
   "cell_type": "code",
   "execution_count": 9,
   "id": "845560c6",
   "metadata": {},
   "outputs": [],
   "source": [
    "def MyFilter(fun,l):\n",
    "    list1=[]\n",
    "    str1=\"\"\n",
    "    it = iter(l)\n",
    "    for i in l:\n",
    "        try:\n",
    "            x=next(it)\n",
    "            y = fun(x)\n",
    "            if type(y)==bool:\n",
    "                if y ==True:\n",
    "                    y=i\n",
    "                    yield y\n",
    "            else:\n",
    "                yield y\n",
    "        except StopIteration:\n",
    "            pass \n",
    "    return list1"
   ]
  },
  {
   "cell_type": "markdown",
   "id": "3dc8a413",
   "metadata": {},
   "source": [
    "##### example1:-"
   ]
  },
  {
   "cell_type": "code",
   "execution_count": 10,
   "id": "38ce9796",
   "metadata": {},
   "outputs": [
    {
     "name": "stdout",
     "output_type": "stream",
     "text": [
      "[2, 4, 6, 8, 10]\n"
     ]
    }
   ],
   "source": [
    "l=[1,2,3,4,5,6,7,8,9,10]\n",
    "print(list(MyFilter((lambda x:x%2==0),l)))"
   ]
  },
  {
   "cell_type": "markdown",
   "id": "c517eeb5",
   "metadata": {},
   "source": [
    "##### Example2:-"
   ]
  },
  {
   "cell_type": "code",
   "execution_count": 11,
   "id": "4cc81352",
   "metadata": {},
   "outputs": [
    {
     "name": "stdout",
     "output_type": "stream",
     "text": [
      "[2, 4, 6, 8, 10, 12, 14, 16, 18, 20]\n"
     ]
    }
   ],
   "source": [
    "l=[1,2,3,4,5,6,7,8,9,10]\n",
    "print(list(MyFilter((lambda x:x*2),l)))"
   ]
  },
  {
   "cell_type": "markdown",
   "id": "7fbbe231",
   "metadata": {},
   "source": [
    "### 2. Implement List comprehensions to produce the following lists.\n",
    "#### Write List comprehensions to produce the following Lists<br>\n",
    "['A', 'C', 'A', 'D', 'G', 'I', ’L’, ‘ D’]<br>\n",
    "['x', 'xx', 'xxx', 'xxxx', 'y', 'yy', 'yyy', 'yyyy', 'z', 'zz', 'zzz', 'zzzz']<br>\n",
    "['x', 'y', 'z', 'xx', 'yy', 'zz', 'xxx', 'yyy', 'zzz', 'xxxx', 'yyyy', 'zzzz']<br>\n",
    "[[2], [3], [4], [3], [4], [5], [4], [5], [6]] <br>\n",
    "[[2, 3, 4, 5], [3, 4, 5, 6],[4, 5, 6, 7], [5, 6, 7, 8]]<br>\n",
    "[(1, 1), (2, 1), (3, 1), (1, 2), (2, 2), (3, 2), (1, 3), (2, 3), (3, 3)]<br>"
   ]
  },
  {
   "cell_type": "code",
   "execution_count": 12,
   "id": "90e3e516",
   "metadata": {},
   "outputs": [
    {
     "name": "stdout",
     "output_type": "stream",
     "text": [
      "['A', 'C', 'A', 'D', 'G', 'I', 'L', 'D']\n",
      "['x', 'xx', 'xxx', 'xxxx', 'y', 'yy', 'yyy', 'yyyy', 'z', 'zz', 'zzz', 'zzzz']\n",
      "['x', 'y', 'z', 'xx', 'yy', 'zz', 'xxx', 'yyy', 'zzz', 'xxxx', 'yyyy', 'zzzz']\n",
      "[[2], [3], [4], [3], [4], [5], [4], [5], [6]]\n",
      "[[2, 3, 4, 5], [3, 4, 5, 6], [4, 5, 6, 7], [5, 6, 7, 8]]\n",
      "[(1, 1), (2, 1), (3, 1), (1, 2), (2, 2), (3, 2), (1, 3), (2, 3), (3, 3)]\n"
     ]
    }
   ],
   "source": [
    "#First \n",
    "word1 = 'acadgild'\n",
    "print([letter.upper() for letter in word1])\n",
    "#second\n",
    "word2 = \"xyz\"\n",
    "print([ letter*n for letter in word2 for n in range(1,5)])\n",
    "#third\n",
    "word3 = \"xyz\"\n",
    "print([ n*letter for n in range(1,5) for letter in word3])\n",
    "#Fourth \n",
    "print([[i+j] for i in range(2,5) for j in range(0,3)])\n",
    "#fifth\n",
    "print([[i+j for i in range(2,6)] for j in range(0,4)])\n",
    "#sixth\n",
    "print([(j,i) for i in range(1,4) for j in range(1,4)])"
   ]
  }
 ],
 "metadata": {
  "kernelspec": {
   "display_name": "Python 3",
   "language": "python",
   "name": "python3"
  },
  "language_info": {
   "codemirror_mode": {
    "name": "ipython",
    "version": 3
   },
   "file_extension": ".py",
   "mimetype": "text/x-python",
   "name": "python",
   "nbconvert_exporter": "python",
   "pygments_lexer": "ipython3",
   "version": "3.8.8"
  }
 },
 "nbformat": 4,
 "nbformat_minor": 5
}
