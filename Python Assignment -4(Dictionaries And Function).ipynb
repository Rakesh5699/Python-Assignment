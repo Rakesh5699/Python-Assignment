{
 "cells": [
  {
   "cell_type": "markdown",
   "id": "7eb039f9",
   "metadata": {},
   "source": [
    "#### 1.1 Write a Python Program(with class concepts) to find the area of the triangle using the below\n",
    "\n",
    "formula.\n",
    "area = (s*(s-a)*(s-b)*(s-c)) ** 0.5\n",
    "\n",
    "Function to take the length of the sides of triangle from user should be defined in the parent\n",
    "class and function to calculate the area should be defined in subclass."
   ]
  },
  {
   "cell_type": "code",
   "execution_count": 5,
   "id": "e1301e52",
   "metadata": {},
   "outputs": [
    {
     "name": "stdout",
     "output_type": "stream",
     "text": [
      "Area of triangle = 6.0\n"
     ]
    }
   ],
   "source": [
    "class Triangle:\n",
    " def __init__(self, side1, side2, side3):\n",
    "  self.side1 = side1\n",
    "  self.side2 = side2\n",
    "  self.side3 = side3\n",
    "  \n",
    "\n",
    "class Triangle_Utilities(Triangle):\n",
    " \n",
    " def __init__(self, side1, side2, side3):\n",
    "  super(Triangle_Utilities, self).__init__(side1, side2, side3)\n",
    "\n",
    " def get_area(self):\n",
    "  s = (self.side1 + self.side2 + self.side3)/2\n",
    "  return (s*(s-self.side1)*(s-self.side2)*(s-self.side3))**0.5\n",
    "\n",
    "instance = Triangle_Utilities(3,4,5)\n",
    "print (\"Area of triangle = \" + str(instance.get_area()) )"
   ]
  },
  {
   "cell_type": "markdown",
   "id": "23e21756",
   "metadata": {},
   "source": [
    "<b>1.2 Write a function filter_long_words() that takes a list of words and an integer n and returns\n",
    "the list of words that are longer than n."
   ]
  },
  {
   "cell_type": "code",
   "execution_count": 6,
   "id": "18270ad1",
   "metadata": {},
   "outputs": [],
   "source": [
    "def filter_long_words(l,int1):\n",
    "    list1=[]\n",
    "    for i in l:\n",
    "        if i>int1:\n",
    "            list1.append(i)\n",
    "    return list1"
   ]
  },
  {
   "cell_type": "code",
   "execution_count": 7,
   "id": "54814e7c",
   "metadata": {},
   "outputs": [
    {
     "name": "stdout",
     "output_type": "stream",
     "text": [
      "[23, 56, 34, 67, 293]\n"
     ]
    }
   ],
   "source": [
    "l=[2,4,7,9,10,23,56,34,67,293,12,11]\n",
    "int1=20\n",
    "print(filter_long_words(l,int1))"
   ]
  },
  {
   "cell_type": "markdown",
   "id": "9467f714",
   "metadata": {},
   "source": [
    "<b>2.1 Write a Python program using function concept that maps list of words into a list of integers representing the lengths of the corresponding words.<br>\n",
    "Hint: If a list [ ab,cde,erty] is passed on to the python function output should come as [2,3,4]<br>\n",
    " Here 2,3 and 4 are the lengths of the words in the list."
   ]
  },
  {
   "cell_type": "code",
   "execution_count": 8,
   "id": "4202edb1",
   "metadata": {},
   "outputs": [],
   "source": [
    "def lenth_finder(l):\n",
    "    new_list=[]\n",
    "    for i in l:\n",
    "        new_list.append(len(i))\n",
    "    print(new_list)"
   ]
  },
  {
   "cell_type": "markdown",
   "id": "b69cb8e6",
   "metadata": {},
   "source": [
    "#### Exaample1:-"
   ]
  },
  {
   "cell_type": "code",
   "execution_count": 9,
   "id": "c7ddb11c",
   "metadata": {},
   "outputs": [
    {
     "name": "stdout",
     "output_type": "stream",
     "text": [
      "[2, 3, 4]\n"
     ]
    }
   ],
   "source": [
    "x = ['ab','cde','erty'] \n",
    "lenth_finder(x)"
   ]
  },
  {
   "cell_type": "markdown",
   "id": "facefd41",
   "metadata": {},
   "source": [
    "#### Example2:-"
   ]
  },
  {
   "cell_type": "code",
   "execution_count": 10,
   "id": "32388e74",
   "metadata": {},
   "outputs": [
    {
     "name": "stdout",
     "output_type": "stream",
     "text": [
      "[6, 5, 7]\n",
      "None\n"
     ]
    }
   ],
   "source": [
    "y = ['Rakesh','nisha','karthik']\n",
    "print(lenth_finder(y))"
   ]
  },
  {
   "cell_type": "markdown",
   "id": "a1b4ef74",
   "metadata": {},
   "source": [
    "<b>2.2 Write a Python function which takes a character (i.e. a string of length 1) and returns True if\n",
    "it is a vowel, False otherwise."
   ]
  },
  {
   "cell_type": "code",
   "execution_count": 11,
   "id": "80c22bf5",
   "metadata": {},
   "outputs": [],
   "source": [
    "def Vowel_check(str1):\n",
    "    if str1.lower() in 'aeiou':\n",
    "        return True \n",
    "    else:\n",
    "        return False"
   ]
  },
  {
   "cell_type": "code",
   "execution_count": 12,
   "id": "dc3a0a05",
   "metadata": {},
   "outputs": [
    {
     "name": "stdout",
     "output_type": "stream",
     "text": [
      "True\n"
     ]
    }
   ],
   "source": [
    "print(Vowel_check(\"A\"))"
   ]
  },
  {
   "cell_type": "code",
   "execution_count": 41,
   "id": "495c32c5",
   "metadata": {},
   "outputs": [
    {
     "name": "stdout",
     "output_type": "stream",
     "text": [
      "False\n"
     ]
    }
   ],
   "source": [
    "print(Vowel_check(\"t\"))"
   ]
  }
 ],
 "metadata": {
  "kernelspec": {
   "display_name": "Python 3 (ipykernel)",
   "language": "python",
   "name": "python3"
  },
  "language_info": {
   "codemirror_mode": {
    "name": "ipython",
    "version": 3
   },
   "file_extension": ".py",
   "mimetype": "text/x-python",
   "name": "python",
   "nbconvert_exporter": "python",
   "pygments_lexer": "ipython3",
   "version": "3.9.12"
  }
 },
 "nbformat": 4,
 "nbformat_minor": 5
}
